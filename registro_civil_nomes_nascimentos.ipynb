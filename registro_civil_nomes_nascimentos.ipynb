{
 "cells": [
  {
   "cell_type": "code",
   "execution_count": 147,
   "id": "b11552d9",
   "metadata": {},
   "outputs": [],
   "source": [
    "import requests\n",
    "import pandas as pd\n",
    "import json\n",
    "from tqdm import tqdm \n",
    "from json.decoder import JSONDecodeError"
   ]
  },
  {
   "cell_type": "code",
   "execution_count": 186,
   "id": "e14a0b56",
   "metadata": {},
   "outputs": [
    {
     "data": {
      "text/html": [
       "<div><div id=dd15c1de-9db0-4a77-b942-4d614aae5738 style=\"display:none; background-color:#9D6CFF; color:white; width:200px; height:30px; padding-left:5px; border-radius:4px; flex-direction:row; justify-content:space-around; align-items:center;\" onmouseover=\"this.style.backgroundColor='#BA9BF8'\" onmouseout=\"this.style.backgroundColor='#9D6CFF'\" onclick=\"window.commands?.execute('create-mitosheet-from-dataframe-output');\">See Full Dataframe in Mito</div> <script> if (window.commands.hasCommand('create-mitosheet-from-dataframe-output')) document.getElementById('dd15c1de-9db0-4a77-b942-4d614aae5738').style.display = 'flex' </script> <table border=\"1\" class=\"dataframe\">\n",
       "  <thead>\n",
       "    <tr style=\"text-align: right;\">\n",
       "      <th></th>\n",
       "      <th>codigo_uf</th>\n",
       "      <th>uf</th>\n",
       "      <th>nome</th>\n",
       "      <th>latitude</th>\n",
       "      <th>longitude</th>\n",
       "      <th>regiao</th>\n",
       "    </tr>\n",
       "  </thead>\n",
       "  <tbody>\n",
       "    <tr>\n",
       "      <th>0</th>\n",
       "      <td>11</td>\n",
       "      <td>RO</td>\n",
       "      <td>Rondônia</td>\n",
       "      <td>-10.83</td>\n",
       "      <td>-63.34</td>\n",
       "      <td>Norte</td>\n",
       "    </tr>\n",
       "    <tr>\n",
       "      <th>1</th>\n",
       "      <td>12</td>\n",
       "      <td>AC</td>\n",
       "      <td>Acre</td>\n",
       "      <td>-8.77</td>\n",
       "      <td>-70.55</td>\n",
       "      <td>Norte</td>\n",
       "    </tr>\n",
       "    <tr>\n",
       "      <th>2</th>\n",
       "      <td>13</td>\n",
       "      <td>AM</td>\n",
       "      <td>Amazonas</td>\n",
       "      <td>-3.47</td>\n",
       "      <td>-65.10</td>\n",
       "      <td>Norte</td>\n",
       "    </tr>\n",
       "    <tr>\n",
       "      <th>3</th>\n",
       "      <td>14</td>\n",
       "      <td>RR</td>\n",
       "      <td>Roraima</td>\n",
       "      <td>1.99</td>\n",
       "      <td>-61.33</td>\n",
       "      <td>Norte</td>\n",
       "    </tr>\n",
       "    <tr>\n",
       "      <th>4</th>\n",
       "      <td>15</td>\n",
       "      <td>PA</td>\n",
       "      <td>Pará</td>\n",
       "      <td>-3.79</td>\n",
       "      <td>-52.48</td>\n",
       "      <td>Norte</td>\n",
       "    </tr>\n",
       "  </tbody>\n",
       "</table></div>"
      ],
      "text/plain": [
       "   codigo_uf  uf      nome  latitude  longitude regiao\n",
       "0         11  RO  Rondônia    -10.83     -63.34  Norte\n",
       "1         12  AC      Acre     -8.77     -70.55  Norte\n",
       "2         13  AM  Amazonas     -3.47     -65.10  Norte\n",
       "3         14  RR   Roraima      1.99     -61.33  Norte\n",
       "4         15  PA      Pará     -3.79     -52.48  Norte"
      ]
     },
     "execution_count": 186,
     "metadata": {},
     "output_type": "execute_result"
    }
   ],
   "source": [
    "# importando .csv com dados de nome e região de cada estado\n",
    "info_ufs = pd.read_csv('dados_estados.csv')\n",
    "info_ufs.head()"
   ]
  },
  {
   "cell_type": "markdown",
   "id": "c743fb01",
   "metadata": {},
   "source": [
    "### Dados totais de nascimentos por estado"
   ]
  },
  {
   "cell_type": "code",
   "execution_count": 49,
   "id": "9a50a699",
   "metadata": {},
   "outputs": [],
   "source": [
    "# para evitar erro 403 (sem autorização)\n",
    "session = requests.Session()\n",
    "session.headers.update({'User-Agent': 'Custom user agent'})\n",
    "\n",
    "# raspando dados de registros totais por uf\n",
    "resposta_estados = session.get('https://transparencia.registrocivil.org.br/api/record/birth')\n",
    "resposta_estados = resposta_estados.json()"
   ]
  },
  {
   "cell_type": "code",
   "execution_count": 51,
   "id": "377ee975",
   "metadata": {},
   "outputs": [
    {
     "data": {
      "text/plain": [
       "[{'name': 'AC', 'total': 13247},\n",
       " {'name': 'AL', 'total': 4121},\n",
       " {'name': 'AP', 'total': 23974},\n",
       " {'name': 'AM', 'total': 2971},\n",
       " {'name': 'BA', 'total': 13169},\n",
       " {'name': 'CE', 'total': 3738},\n",
       " {'name': 'DF', 'total': 13598},\n",
       " {'name': 'ES', 'total': 20483},\n",
       " {'name': 'GO', 'total': 9999},\n",
       " {'name': 'MA', 'total': 438},\n",
       " {'name': 'MT', 'total': 11},\n",
       " {'name': 'MS', 'total': 1530},\n",
       " {'name': 'MG', 'total': 30487},\n",
       " {'name': 'PA', 'total': 444},\n",
       " {'name': 'PB', 'total': 715},\n",
       " {'name': 'PR', 'total': 5367},\n",
       " {'name': 'PE', 'total': 88882},\n",
       " {'name': 'PI', 'total': 274},\n",
       " {'name': 'RJ', 'total': 34150},\n",
       " {'name': 'RN', 'total': 434},\n",
       " {'name': 'RS', 'total': 408938},\n",
       " {'name': 'SC', 'total': 112985},\n",
       " {'name': 'SP', 'total': 1285925},\n",
       " {'name': 'SE', 'total': 1788},\n",
       " {'name': 'TO', 'total': 6}]"
      ]
     },
     "execution_count": 51,
     "metadata": {},
     "output_type": "execute_result"
    }
   ],
   "source": [
    "resposta_estados['data']"
   ]
  },
  {
   "cell_type": "markdown",
   "id": "a3e34099",
   "metadata": {},
   "source": [
    "### rapando dados do ranking dos 50 principais nomes por estado"
   ]
  },
  {
   "cell_type": "code",
   "execution_count": 184,
   "id": "1bbb103c",
   "metadata": {
    "scrolled": false
   },
   "outputs": [
    {
     "name": "stdout",
     "output_type": "stream",
     "text": [
      "RO: 200\n",
      "---\n",
      "AC: 200\n",
      "---\n",
      "AM: 200\n",
      "---\n",
      "RR: 200\n",
      "---\n",
      "PA: 200\n",
      "---\n",
      "AP: 200\n",
      "---\n",
      "TO: 200\n",
      "---\n",
      "MA: 200\n",
      "---\n",
      "PI: 200\n",
      "---\n",
      "CE: 200\n",
      "---\n",
      "RN: 200\n",
      "---\n",
      "PB: 200\n",
      "---\n",
      "PE: 200\n",
      "---\n",
      "AL: 200\n",
      "---\n",
      "SE: 200\n",
      "---\n",
      "BA: 200\n",
      "---\n",
      "MG: 200\n",
      "---\n",
      "ES: 200\n",
      "---\n",
      "RJ: 200\n",
      "---\n",
      "SP: 200\n",
      "---\n",
      "PR: 200\n",
      "---\n",
      "SC: 200\n",
      "---\n",
      "RS: 200\n",
      "---\n",
      "MS: 200\n",
      "---\n",
      "MT: 200\n",
      "---\n",
      "GO: 200\n",
      "---\n",
      "DF: 200\n",
      "---\n"
     ]
    }
   ],
   "source": [
    "estados = []\n",
    "df_estados = pd.DataFrame()\n",
    "for uf in info_ufs.values: #resposta_estados['data']\n",
    "    \n",
    "    uf_nome = uf[1]\n",
    "    resposta = session.get(f'https://transparencia.registrocivil.org.br/api/record/all-name?start_date=2021-01-01&end_date=2021-12-31&translate=1&state={uf_nome}')\n",
    "    print(f\"{uf[1]}: {resposta.status_code}\")\n",
    "    resposta = resposta.json()\n",
    "    df_resposta = pd.DataFrame(resposta['data'])\n",
    "    df_resposta['uf'] = uf_nome\n",
    "    df_resposta['regiao'] = uf[5]\n",
    "    df_resposta['ano'] = 2021\n",
    "    df_resposta.index = df_resposta.index + 1\n",
    "    \n",
    "    df_estados = df_estados.append(df_resposta)\n",
    "    \n",
    "    print('---')"
   ]
  },
  {
   "cell_type": "code",
   "execution_count": 185,
   "id": "7635e8fa",
   "metadata": {},
   "outputs": [
    {
     "data": {
      "text/html": [
       "<div><div id=5158ab5d-e062-466b-82ad-5f2d3dbad8e5 style=\"display:none; background-color:#9D6CFF; color:white; width:200px; height:30px; padding-left:5px; border-radius:4px; flex-direction:row; justify-content:space-around; align-items:center;\" onmouseover=\"this.style.backgroundColor='#BA9BF8'\" onmouseout=\"this.style.backgroundColor='#9D6CFF'\" onclick=\"window.commands?.execute('create-mitosheet-from-dataframe-output');\">See Full Dataframe in Mito</div> <script> if (window.commands.hasCommand('create-mitosheet-from-dataframe-output')) document.getElementById('5158ab5d-e062-466b-82ad-5f2d3dbad8e5').style.display = 'flex' </script> <table border=\"1\" class=\"dataframe\">\n",
       "  <thead>\n",
       "    <tr style=\"text-align: right;\">\n",
       "      <th></th>\n",
       "      <th>total</th>\n",
       "      <th>name</th>\n",
       "      <th>uf</th>\n",
       "      <th>regiao</th>\n",
       "      <th>ano</th>\n",
       "    </tr>\n",
       "  </thead>\n",
       "  <tbody>\n",
       "    <tr>\n",
       "      <th>1</th>\n",
       "      <td>288</td>\n",
       "      <td>MIGUEL</td>\n",
       "      <td>RO</td>\n",
       "      <td>Norte</td>\n",
       "      <td>2021</td>\n",
       "    </tr>\n",
       "    <tr>\n",
       "      <th>2</th>\n",
       "      <td>268</td>\n",
       "      <td>HEITOR</td>\n",
       "      <td>RO</td>\n",
       "      <td>Norte</td>\n",
       "      <td>2021</td>\n",
       "    </tr>\n",
       "    <tr>\n",
       "      <th>3</th>\n",
       "      <td>266</td>\n",
       "      <td>ARTHUR</td>\n",
       "      <td>RO</td>\n",
       "      <td>Norte</td>\n",
       "      <td>2021</td>\n",
       "    </tr>\n",
       "    <tr>\n",
       "      <th>4</th>\n",
       "      <td>186</td>\n",
       "      <td>LAURA</td>\n",
       "      <td>RO</td>\n",
       "      <td>Norte</td>\n",
       "      <td>2021</td>\n",
       "    </tr>\n",
       "    <tr>\n",
       "      <th>5</th>\n",
       "      <td>183</td>\n",
       "      <td>GAEL</td>\n",
       "      <td>RO</td>\n",
       "      <td>Norte</td>\n",
       "      <td>2021</td>\n",
       "    </tr>\n",
       "  </tbody>\n",
       "</table></div>"
      ],
      "text/plain": [
       "  total    name  uf regiao   ano\n",
       "1   288  MIGUEL  RO  Norte  2021\n",
       "2   268  HEITOR  RO  Norte  2021\n",
       "3   266  ARTHUR  RO  Norte  2021\n",
       "4   186   LAURA  RO  Norte  2021\n",
       "5   183    GAEL  RO  Norte  2021"
      ]
     },
     "execution_count": 185,
     "metadata": {},
     "output_type": "execute_result"
    }
   ],
   "source": [
    "df_estados.head()"
   ]
  },
  {
   "cell_type": "code",
   "execution_count": 106,
   "id": "ef611907",
   "metadata": {},
   "outputs": [],
   "source": [
    "df.to_csv('nomes_mais_registrados_br_2021.csv')"
   ]
  },
  {
   "cell_type": "markdown",
   "id": "3cdfa438",
   "metadata": {},
   "source": [
    "### Dados por município"
   ]
  },
  {
   "cell_type": "code",
   "execution_count": 111,
   "id": "6d3e401d",
   "metadata": {},
   "outputs": [],
   "source": [
    "resposta_municipios = session.get('https://transparencia.registrocivil.org.br/api/cities')\n",
    "resposta_municipios = resposta_municipios.json()"
   ]
  },
  {
   "cell_type": "code",
   "execution_count": 183,
   "id": "7a6e3a5f",
   "metadata": {
    "scrolled": true
   },
   "outputs": [
    {
     "data": {
      "text/plain": [
       "[{'uf': 'SP', 'name': 'São Paulo', 'id': 1},\n",
       " {'uf': 'SP', 'name': 'São Bernardo do Campo', 'id': 2},\n",
       " {'uf': 'SP', 'name': 'Sumare', 'id': 3},\n",
       " {'uf': 'SP', 'name': 'São Caetano do Sul', 'id': 4},\n",
       " {'uf': 'SP', 'name': 'Santo Andre', 'id': 5},\n",
       " {'uf': 'SP', 'name': 'Barueri', 'id': 6},\n",
       " {'uf': 'SP', 'name': 'Ribeirão Pires', 'id': 7},\n",
       " {'uf': 'SP', 'name': 'Campinas', 'id': 8},\n",
       " {'uf': 'SP', 'name': 'Paulinia', 'id': 9},\n",
       " {'uf': 'SP', 'name': 'Salto', 'id': 10},\n",
       " {'uf': 'SP', 'name': 'Cotia', 'id': 11}]"
      ]
     },
     "execution_count": 183,
     "metadata": {},
     "output_type": "execute_result"
    }
   ],
   "source": [
    "resposta_municipios['cities'][0:11]"
   ]
  },
  {
   "cell_type": "markdown",
   "id": "d5adbfc6",
   "metadata": {},
   "source": [
    "#### Tranformando nome dos municípios em no formato URL encode"
   ]
  },
  {
   "cell_type": "code",
   "execution_count": 125,
   "id": "5a36675f",
   "metadata": {},
   "outputs": [
    {
     "data": {
      "text/plain": [
       "'Jequi%C3%A1%20da%20Praia'"
      ]
     },
     "execution_count": 125,
     "metadata": {},
     "output_type": "execute_result"
    }
   ],
   "source": [
    "# testanto biblioteca\n",
    "import urllib.parse\n",
    "query = 'Jequiá da Praia'\n",
    "urllib.parse.quote(query)\n"
   ]
  },
  {
   "cell_type": "markdown",
   "id": "67a82c67",
   "metadata": {},
   "source": [
    "### rapando dados dos municípios brasileiros"
   ]
  },
  {
   "cell_type": "code",
   "execution_count": 160,
   "id": "427bafcd",
   "metadata": {
    "scrolled": true
   },
   "outputs": [
    {
     "name": "stderr",
     "output_type": "stream",
     "text": [
      "100%|████████████████████████████████████████████████████████████████████████████| 5611/5611 [1:58:30<00:00,  1.27s/it]\n"
     ]
    }
   ],
   "source": [
    "\n",
    "df_municipios = pd.DataFrame()\n",
    "\n",
    "for item in tqdm(resposta_municipios['cities']):\n",
    "    try:\n",
    "        municipio_encode = urllib.parse.quote(item['name'])        \n",
    "        uf_busca = item['uf']     \n",
    "        resposta = session.get(f'https://transparencia.registrocivil.org.br/api/record/all-name?start_date=2021-01-01&end_date=2021-12-31&translate=1&state={uf_busca}&city={municipio_encode}')\n",
    "\n",
    "        resposta = resposta.json()\n",
    "        df_resposta = pd.DataFrame(resposta['data'])\n",
    "        df_resposta['uf'] = uf_busca\n",
    "        df_resposta['municipio'] = item['name']\n",
    "        df_resposta['ano'] = 2021\n",
    "        df_resposta.index = df_resposta.index + 1\n",
    "        #display(df_resposta)\n",
    "        df_municipios = df_municipios.append(df_resposta)\n",
    "\n",
    "    except json.decoder.JSONDecodeError:\n",
    "        print(item['name']) \n",
    "        print(item['uf'])\n",
    "        print(resposta.status_code)\n",
    "        print(\"String could not be converted to JSON\")\n",
    "        continue  \n",
    "         \n",
    "\n"
   ]
  },
  {
   "cell_type": "code",
   "execution_count": 166,
   "id": "a43d6071",
   "metadata": {},
   "outputs": [
    {
     "data": {
      "text/plain": [
       "4835"
      ]
     },
     "execution_count": 166,
     "metadata": {},
     "output_type": "execute_result"
    }
   ],
   "source": [
    "#total de municípios com dados coletados\n",
    "len(df_municipios.groupby('municipio').sum())"
   ]
  },
  {
   "cell_type": "code",
   "execution_count": 169,
   "id": "503c934f",
   "metadata": {},
   "outputs": [],
   "source": [
    "df_municipios.to_csv('nomes_mais_registrados_municipios_2021.csv')"
   ]
  }
 ],
 "metadata": {
  "kernelspec": {
   "display_name": "Python 3",
   "language": "python",
   "name": "python3"
  },
  "language_info": {
   "codemirror_mode": {
    "name": "ipython",
    "version": 3
   },
   "file_extension": ".py",
   "mimetype": "text/x-python",
   "name": "python",
   "nbconvert_exporter": "python",
   "pygments_lexer": "ipython3",
   "version": "3.9.5"
  }
 },
 "nbformat": 4,
 "nbformat_minor": 5
}
